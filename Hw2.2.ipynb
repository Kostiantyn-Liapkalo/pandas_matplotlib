{
 "cells": [
  {
   "cell_type": "raw",
   "source": [
    "a#%%\n",
    "# Проведіть аналіз файлу 2017_jun_final.csv. Файл містить результати опитування розробників у червні 2017 року."
   ],
   "metadata": {
    "collapsed": false
   },
   "id": "573d6d43385386cc"
  },
  {
   "cell_type": "code",
   "execution_count": 281,
   "outputs": [],
   "source": [
    "import numpy as np\n",
    "import pandas as pd\n",
    "import matplotlib.pyplot as plt\n",
    "%matplotlib inline"
   ],
   "metadata": {
    "collapsed": false,
    "ExecuteTime": {
     "end_time": "2023-08-21T14:47:21.733267053Z",
     "start_time": "2023-08-21T14:47:21.251042707Z"
    }
   },
   "id": "df11fe0883d43683"
  },
  {
   "cell_type": "code",
   "execution_count": 282,
   "outputs": [
    {
     "data": {
      "text/plain": "   N                 Должность Язык.программирования Специализация  \\\n0  1        Junior QA engineer                   NaN     Manual QA   \n1  2        Junior QA engineer                   NaN     Manual QA   \n2  3         Software Engineer               C#/.NET           NaN   \n3  4         Software Engineer            JavaScript           NaN   \n4  5  Senior Software Engineer            JavaScript           NaN   \n\n  Общий.опыт.работы Опыт.работы.на.текущем.месте  Зарплата.в.месяц  \\\n0               0.5                          0.5               400   \n1  меньше 3 месяцев             меньше 3 месяцев               430   \n2                 4                            1              2500   \n3                 5                            4              2000   \n4    10 и более лет                          0.5              4500   \n\n   Изменение.зарплаты.за.12.месяцев    Город     Размер.компании  ...  \\\n0                                 0  Харьков       до 10 человек  ...   \n1                               130  Харьков  свыше 1000 человек  ...   \n2                               800     Киев     до 1000 человек  ...   \n3                               400   Одесса      до 200 человек  ...   \n4                               500   Другой       до 10 человек  ...   \n\n  Еще.студент Уровень.английского                    Предметная.область  \\\n0        True       ниже среднего                         iOS,eCommerce   \n1        True       выше среднего                        Веб-разработка   \n2       False             средний  Веб-разработка,Корпоративные системы   \n3       False       ниже среднего   Desktop Applications,Веб-разработка   \n4       False             средний   Desktop Applications,Веб-разработка   \n\n       Дата.заполнения                                         User.Agent  \\\n0  12/06/2017 12:38:08  Mozilla/5.0 (Windows NT 10.0; Win64; x64) Appl...   \n1  12/06/2017 12:42:51  Mozilla/5.0 (iPad; CPU OS 10_2_1 like Mac OS X...   \n2  12/06/2017 13:02:47  Mozilla/5.0 (Windows NT 10.0; Win64; x64) Appl...   \n3  12/06/2017 13:03:01  Mozilla/5.0 (Windows NT 6.1; Win64; x64) Apple...   \n4  12/06/2017 13:03:47  Mozilla/5.0 (iPhone; CPU iPhone OS 10_3_2 like...   \n\n    exp current_job_exp salary Валюта  cls  \n0   0.5             0.5    400    NaN   QA  \n1   0.0             0.0    430    NaN   QA  \n2   4.0             1.0   2500    NaN  DEV  \n3   5.0             4.0   2000    NaN  DEV  \n4  10.0             0.5   4500    NaN  DEV  \n\n[5 rows x 25 columns]",
      "text/html": "<div>\n<style scoped>\n    .dataframe tbody tr th:only-of-type {\n        vertical-align: middle;\n    }\n\n    .dataframe tbody tr th {\n        vertical-align: top;\n    }\n\n    .dataframe thead th {\n        text-align: right;\n    }\n</style>\n<table border=\"1\" class=\"dataframe\">\n  <thead>\n    <tr style=\"text-align: right;\">\n      <th></th>\n      <th>N</th>\n      <th>Должность</th>\n      <th>Язык.программирования</th>\n      <th>Специализация</th>\n      <th>Общий.опыт.работы</th>\n      <th>Опыт.работы.на.текущем.месте</th>\n      <th>Зарплата.в.месяц</th>\n      <th>Изменение.зарплаты.за.12.месяцев</th>\n      <th>Город</th>\n      <th>Размер.компании</th>\n      <th>...</th>\n      <th>Еще.студент</th>\n      <th>Уровень.английского</th>\n      <th>Предметная.область</th>\n      <th>Дата.заполнения</th>\n      <th>User.Agent</th>\n      <th>exp</th>\n      <th>current_job_exp</th>\n      <th>salary</th>\n      <th>Валюта</th>\n      <th>cls</th>\n    </tr>\n  </thead>\n  <tbody>\n    <tr>\n      <th>0</th>\n      <td>1</td>\n      <td>Junior QA engineer</td>\n      <td>NaN</td>\n      <td>Manual QA</td>\n      <td>0.5</td>\n      <td>0.5</td>\n      <td>400</td>\n      <td>0</td>\n      <td>Харьков</td>\n      <td>до 10 человек</td>\n      <td>...</td>\n      <td>True</td>\n      <td>ниже среднего</td>\n      <td>iOS,eCommerce</td>\n      <td>12/06/2017 12:38:08</td>\n      <td>Mozilla/5.0 (Windows NT 10.0; Win64; x64) Appl...</td>\n      <td>0.5</td>\n      <td>0.5</td>\n      <td>400</td>\n      <td>NaN</td>\n      <td>QA</td>\n    </tr>\n    <tr>\n      <th>1</th>\n      <td>2</td>\n      <td>Junior QA engineer</td>\n      <td>NaN</td>\n      <td>Manual QA</td>\n      <td>меньше 3 месяцев</td>\n      <td>меньше 3 месяцев</td>\n      <td>430</td>\n      <td>130</td>\n      <td>Харьков</td>\n      <td>свыше 1000 человек</td>\n      <td>...</td>\n      <td>True</td>\n      <td>выше среднего</td>\n      <td>Веб-разработка</td>\n      <td>12/06/2017 12:42:51</td>\n      <td>Mozilla/5.0 (iPad; CPU OS 10_2_1 like Mac OS X...</td>\n      <td>0.0</td>\n      <td>0.0</td>\n      <td>430</td>\n      <td>NaN</td>\n      <td>QA</td>\n    </tr>\n    <tr>\n      <th>2</th>\n      <td>3</td>\n      <td>Software Engineer</td>\n      <td>C#/.NET</td>\n      <td>NaN</td>\n      <td>4</td>\n      <td>1</td>\n      <td>2500</td>\n      <td>800</td>\n      <td>Киев</td>\n      <td>до 1000 человек</td>\n      <td>...</td>\n      <td>False</td>\n      <td>средний</td>\n      <td>Веб-разработка,Корпоративные системы</td>\n      <td>12/06/2017 13:02:47</td>\n      <td>Mozilla/5.0 (Windows NT 10.0; Win64; x64) Appl...</td>\n      <td>4.0</td>\n      <td>1.0</td>\n      <td>2500</td>\n      <td>NaN</td>\n      <td>DEV</td>\n    </tr>\n    <tr>\n      <th>3</th>\n      <td>4</td>\n      <td>Software Engineer</td>\n      <td>JavaScript</td>\n      <td>NaN</td>\n      <td>5</td>\n      <td>4</td>\n      <td>2000</td>\n      <td>400</td>\n      <td>Одесса</td>\n      <td>до 200 человек</td>\n      <td>...</td>\n      <td>False</td>\n      <td>ниже среднего</td>\n      <td>Desktop Applications,Веб-разработка</td>\n      <td>12/06/2017 13:03:01</td>\n      <td>Mozilla/5.0 (Windows NT 6.1; Win64; x64) Apple...</td>\n      <td>5.0</td>\n      <td>4.0</td>\n      <td>2000</td>\n      <td>NaN</td>\n      <td>DEV</td>\n    </tr>\n    <tr>\n      <th>4</th>\n      <td>5</td>\n      <td>Senior Software Engineer</td>\n      <td>JavaScript</td>\n      <td>NaN</td>\n      <td>10 и более лет</td>\n      <td>0.5</td>\n      <td>4500</td>\n      <td>500</td>\n      <td>Другой</td>\n      <td>до 10 человек</td>\n      <td>...</td>\n      <td>False</td>\n      <td>средний</td>\n      <td>Desktop Applications,Веб-разработка</td>\n      <td>12/06/2017 13:03:47</td>\n      <td>Mozilla/5.0 (iPhone; CPU iPhone OS 10_3_2 like...</td>\n      <td>10.0</td>\n      <td>0.5</td>\n      <td>4500</td>\n      <td>NaN</td>\n      <td>DEV</td>\n    </tr>\n  </tbody>\n</table>\n<p>5 rows × 25 columns</p>\n</div>"
     },
     "execution_count": 282,
     "metadata": {},
     "output_type": "execute_result"
    }
   ],
   "source": [
    "# Прочитайте файл 2017_jun_final.csv за допомогою методу read_csv\n",
    "file_path = \"2017_jun_final.csv\"\n",
    "data = pd.read_csv(file_path)\n",
    "data.head()"
   ],
   "metadata": {
    "collapsed": false,
    "ExecuteTime": {
     "end_time": "2023-08-21T14:47:21.833153233Z",
     "start_time": "2023-08-21T14:47:21.251370259Z"
    }
   },
   "id": "4e4f2dc1993a971f"
  },
  {
   "cell_type": "code",
   "execution_count": 283,
   "outputs": [
    {
     "data": {
      "text/plain": "   N           Должность Язык.программирования Специализация  \\\n0  1  Junior QA engineer                   NaN     Manual QA   \n1  2  Junior QA engineer                   NaN     Manual QA   \n2  3   Software Engineer               C#/.NET           NaN   \n\n  Общий.опыт.работы Опыт.работы.на.текущем.месте  Зарплата.в.месяц  \\\n0               0.5                          0.5               400   \n1  меньше 3 месяцев             меньше 3 месяцев               430   \n2                 4                            1              2500   \n\n   Изменение.зарплаты.за.12.месяцев    Город     Размер.компании  ...  \\\n0                                 0  Харьков       до 10 человек  ...   \n1                               130  Харьков  свыше 1000 человек  ...   \n2                               800     Киев     до 1000 человек  ...   \n\n  Еще.студент Уровень.английского                    Предметная.область  \\\n0        True       ниже среднего                         iOS,eCommerce   \n1        True       выше среднего                        Веб-разработка   \n2       False             средний  Веб-разработка,Корпоративные системы   \n\n       Дата.заполнения                                         User.Agent  \\\n0  12/06/2017 12:38:08  Mozilla/5.0 (Windows NT 10.0; Win64; x64) Appl...   \n1  12/06/2017 12:42:51  Mozilla/5.0 (iPad; CPU OS 10_2_1 like Mac OS X...   \n2  12/06/2017 13:02:47  Mozilla/5.0 (Windows NT 10.0; Win64; x64) Appl...   \n\n   exp current_job_exp salary Валюта  cls  \n0  0.5             0.5    400    NaN   QA  \n1  0.0             0.0    430    NaN   QA  \n2  4.0             1.0   2500    NaN  DEV  \n\n[3 rows x 25 columns]",
      "text/html": "<div>\n<style scoped>\n    .dataframe tbody tr th:only-of-type {\n        vertical-align: middle;\n    }\n\n    .dataframe tbody tr th {\n        vertical-align: top;\n    }\n\n    .dataframe thead th {\n        text-align: right;\n    }\n</style>\n<table border=\"1\" class=\"dataframe\">\n  <thead>\n    <tr style=\"text-align: right;\">\n      <th></th>\n      <th>N</th>\n      <th>Должность</th>\n      <th>Язык.программирования</th>\n      <th>Специализация</th>\n      <th>Общий.опыт.работы</th>\n      <th>Опыт.работы.на.текущем.месте</th>\n      <th>Зарплата.в.месяц</th>\n      <th>Изменение.зарплаты.за.12.месяцев</th>\n      <th>Город</th>\n      <th>Размер.компании</th>\n      <th>...</th>\n      <th>Еще.студент</th>\n      <th>Уровень.английского</th>\n      <th>Предметная.область</th>\n      <th>Дата.заполнения</th>\n      <th>User.Agent</th>\n      <th>exp</th>\n      <th>current_job_exp</th>\n      <th>salary</th>\n      <th>Валюта</th>\n      <th>cls</th>\n    </tr>\n  </thead>\n  <tbody>\n    <tr>\n      <th>0</th>\n      <td>1</td>\n      <td>Junior QA engineer</td>\n      <td>NaN</td>\n      <td>Manual QA</td>\n      <td>0.5</td>\n      <td>0.5</td>\n      <td>400</td>\n      <td>0</td>\n      <td>Харьков</td>\n      <td>до 10 человек</td>\n      <td>...</td>\n      <td>True</td>\n      <td>ниже среднего</td>\n      <td>iOS,eCommerce</td>\n      <td>12/06/2017 12:38:08</td>\n      <td>Mozilla/5.0 (Windows NT 10.0; Win64; x64) Appl...</td>\n      <td>0.5</td>\n      <td>0.5</td>\n      <td>400</td>\n      <td>NaN</td>\n      <td>QA</td>\n    </tr>\n    <tr>\n      <th>1</th>\n      <td>2</td>\n      <td>Junior QA engineer</td>\n      <td>NaN</td>\n      <td>Manual QA</td>\n      <td>меньше 3 месяцев</td>\n      <td>меньше 3 месяцев</td>\n      <td>430</td>\n      <td>130</td>\n      <td>Харьков</td>\n      <td>свыше 1000 человек</td>\n      <td>...</td>\n      <td>True</td>\n      <td>выше среднего</td>\n      <td>Веб-разработка</td>\n      <td>12/06/2017 12:42:51</td>\n      <td>Mozilla/5.0 (iPad; CPU OS 10_2_1 like Mac OS X...</td>\n      <td>0.0</td>\n      <td>0.0</td>\n      <td>430</td>\n      <td>NaN</td>\n      <td>QA</td>\n    </tr>\n    <tr>\n      <th>2</th>\n      <td>3</td>\n      <td>Software Engineer</td>\n      <td>C#/.NET</td>\n      <td>NaN</td>\n      <td>4</td>\n      <td>1</td>\n      <td>2500</td>\n      <td>800</td>\n      <td>Киев</td>\n      <td>до 1000 человек</td>\n      <td>...</td>\n      <td>False</td>\n      <td>средний</td>\n      <td>Веб-разработка,Корпоративные системы</td>\n      <td>12/06/2017 13:02:47</td>\n      <td>Mozilla/5.0 (Windows NT 10.0; Win64; x64) Appl...</td>\n      <td>4.0</td>\n      <td>1.0</td>\n      <td>2500</td>\n      <td>NaN</td>\n      <td>DEV</td>\n    </tr>\n  </tbody>\n</table>\n<p>3 rows × 25 columns</p>\n</div>"
     },
     "execution_count": 283,
     "metadata": {},
     "output_type": "execute_result"
    }
   ],
   "source": [
    "# Прочитайте отриману таблицю, використовуючи метод head\n",
    "data.head(3)"
   ],
   "metadata": {
    "collapsed": false,
    "ExecuteTime": {
     "end_time": "2023-08-21T14:47:21.849975073Z",
     "start_time": "2023-08-21T14:47:21.511062930Z"
    }
   },
   "id": "92d007a0177613d5"
  },
  {
   "cell_type": "code",
   "execution_count": 284,
   "outputs": [
    {
     "data": {
      "text/plain": "(8704, 25)"
     },
     "execution_count": 284,
     "metadata": {},
     "output_type": "execute_result"
    }
   ],
   "source": [
    "# Визначте розмір таблиці за допомогою методу shape\n",
    "data.shape"
   ],
   "metadata": {
    "collapsed": false,
    "ExecuteTime": {
     "end_time": "2023-08-21T14:47:21.851714390Z",
     "start_time": "2023-08-21T14:47:21.590312598Z"
    }
   },
   "id": "489825128851a4a6"
  },
  {
   "cell_type": "code",
   "execution_count": 285,
   "outputs": [
    {
     "data": {
      "text/plain": "N                                     int64\nДолжность                            object\nЯзык.программирования                object\nСпециализация                        object\nОбщий.опыт.работы                    object\nОпыт.работы.на.текущем.месте         object\nЗарплата.в.месяц                      int64\nИзменение.зарплаты.за.12.месяцев      int64\nГород                                object\nРазмер.компании                      object\nТип.компании                         object\nПол                                  object\nВозраст                               int64\nОбразование                          object\nУниверситет                          object\nЕще.студент                            bool\nУровень.английского                  object\nПредметная.область                   object\nДата.заполнения                      object\nUser.Agent                           object\nexp                                 float64\ncurrent_job_exp                     float64\nsalary                                int64\nВалюта                               object\ncls                                  object\ndtype: object"
     },
     "execution_count": 285,
     "metadata": {},
     "output_type": "execute_result"
    }
   ],
   "source": [
    "# Визначте типи всіх стовпців за допомогою dataframe.dtypes\n",
    "data.dtypes"
   ],
   "metadata": {
    "collapsed": false,
    "ExecuteTime": {
     "end_time": "2023-08-21T14:47:21.853775514Z",
     "start_time": "2023-08-21T14:47:21.613003704Z"
    }
   },
   "id": "511fce9337b28db3"
  },
  {
   "cell_type": "code",
   "execution_count": 286,
   "outputs": [
    {
     "data": {
      "text/plain": "N                                      0\nДолжность                              0\nЯзык.программирования               3850\nСпециализация                       7219\nОбщий.опыт.работы                      0\nОпыт.работы.на.текущем.месте           0\nЗарплата.в.месяц                       0\nИзменение.зарплаты.за.12.месяцев       0\nГород                                  0\nРазмер.компании                        0\nТип.компании                           0\nПол                                    0\nВозраст                                0\nОбразование                            0\nУниверситет                          358\nЕще.студент                            0\nУровень.английского                    0\nПредметная.область                   223\nДата.заполнения                        0\nUser.Agent                             0\nexp                                    0\ncurrent_job_exp                        0\nsalary                                 0\nВалюта                              8694\ncls                                 1574\ndtype: int64"
     },
     "execution_count": 286,
     "metadata": {},
     "output_type": "execute_result"
    }
   ],
   "source": [
    "# Порахуйте, яка частка пропусків міститься в кожній колонці (використовуйте методи isnull та sum)\n",
    "missiong_ratios = data.isnull().sum()\n",
    "missiong_ratios"
   ],
   "metadata": {
    "collapsed": false,
    "ExecuteTime": {
     "end_time": "2023-08-21T14:47:21.856105829Z",
     "start_time": "2023-08-21T14:47:21.662401219Z"
    }
   },
   "id": "b321682f940fd292"
  },
  {
   "cell_type": "code",
   "execution_count": 287,
   "outputs": [
    {
     "data": {
      "text/plain": "         N                 Должность Язык.программирования Общий.опыт.работы  \\\n0        1        Junior QA engineer                   NaN               0.5   \n1        2        Junior QA engineer                   NaN  меньше 3 месяцев   \n2        3         Software Engineer               C#/.NET                 4   \n3        4         Software Engineer            JavaScript                 5   \n4        5  Senior Software Engineer            JavaScript    10 и более лет   \n...    ...                       ...                   ...               ...   \n8699  8700               QA engineer                   NaN                 1   \n8700  8701                 Marketing                   NaN               0.5   \n8701  8702  Junior Software Engineer            Ruby/Rails                 1   \n8702  8703                 Team lead                   NaN                 6   \n8703  8704  Senior Software Engineer                  Java                 7   \n\n     Опыт.работы.на.текущем.месте  Зарплата.в.месяц  \\\n0                             0.5               400   \n1                меньше 3 месяцев               430   \n2                               1              2500   \n3                               4              2000   \n4                             0.5              4500   \n...                           ...               ...   \n8699             меньше 3 месяцев               700   \n8700                          0.5               400   \n8701                          0.5               800   \n8702                            4              2600   \n8703                            2              5000   \n\n      Изменение.зарплаты.за.12.месяцев    Город     Размер.компании  \\\n0                                    0  Харьков       до 10 человек   \n1                                  130  Харьков  свыше 1000 человек   \n2                                  800     Киев     до 1000 человек   \n3                                  400   Одесса      до 200 человек   \n4                                  500   Другой       до 10 человек   \n...                                ...      ...                 ...   \n8699                               700   Одесса       до 50 человек   \n8700                               120     Киев       до 50 человек   \n8701                               500    Львов       до 10 человек   \n8702                                 0    Днепр  свыше 1000 человек   \n8703                               800   Одесса     до 1000 человек   \n\n         Тип.компании      Пол  Возраст           Образование  Еще.студент  \\\n0      Аутсорсинговая  женский       20  Незаконченное высшее         True   \n1      Аутсорсинговая  женский       21  Незаконченное высшее         True   \n2      Аутсорсинговая  мужской       26                Высшее        False   \n3         Продуктовая  мужской       30               Среднее        False   \n4         Продуктовая  мужской       30    Техникум / Колледж        False   \n...               ...      ...      ...                   ...          ...   \n8699   Аутсорсинговая  мужской       23                Высшее        False   \n8700      Продуктовая  женский       22                Высшее        False   \n8701  Аутстаффинговая  мужской       30  Незаконченное высшее        False   \n8702   Аутсорсинговая  мужской       34                Высшее        False   \n8703      Продуктовая  мужской       28                Высшее        False   \n\n     Уровень.английского      Дата.заполнения  \\\n0          ниже среднего  12/06/2017 12:38:08   \n1          выше среднего  12/06/2017 12:42:51   \n2                средний  12/06/2017 13:02:47   \n3          ниже среднего  12/06/2017 13:03:01   \n4                средний  12/06/2017 13:03:47   \n...                  ...                  ...   \n8699             средний  12/07/2017 15:45:24   \n8700       ниже среднего  12/07/2017 17:00:06   \n8701       выше среднего  12/07/2017 17:32:26   \n8702         продвинутый  12/07/2017 18:14:59   \n8703       выше среднего  12/07/2017 21:28:57   \n\n                                             User.Agent   exp  \\\n0     Mozilla/5.0 (Windows NT 10.0; Win64; x64) Appl...   0.5   \n1     Mozilla/5.0 (iPad; CPU OS 10_2_1 like Mac OS X...   0.0   \n2     Mozilla/5.0 (Windows NT 10.0; Win64; x64) Appl...   4.0   \n3     Mozilla/5.0 (Windows NT 6.1; Win64; x64) Apple...   5.0   \n4     Mozilla/5.0 (iPhone; CPU iPhone OS 10_3_2 like...  10.0   \n...                                                 ...   ...   \n8699  Mozilla/5.0 (X11; Ubuntu; Linux x86_64; rv:54....   1.0   \n8700  Mozilla/5.0 (Windows NT 10.0; Win64; x64) Appl...   0.5   \n8701  Mozilla/5.0 (X11; Linux x86_64) AppleWebKit/53...   1.0   \n8702  Mozilla/5.0 (Windows NT 6.1) AppleWebKit/537.3...   6.0   \n8703  Mozilla/5.0 (iPad; CPU OS 10_3_2 like Mac OS X...   7.0   \n\n      current_job_exp  salary  \n0                 0.5     400  \n1                 0.0     430  \n2                 1.0    2500  \n3                 4.0    2000  \n4                 0.5    4500  \n...               ...     ...  \n8699              0.0     700  \n8700              0.5     400  \n8701              0.5     800  \n8702              4.0    2600  \n8703              2.0    5000  \n\n[8704 rows x 20 columns]",
      "text/html": "<div>\n<style scoped>\n    .dataframe tbody tr th:only-of-type {\n        vertical-align: middle;\n    }\n\n    .dataframe tbody tr th {\n        vertical-align: top;\n    }\n\n    .dataframe thead th {\n        text-align: right;\n    }\n</style>\n<table border=\"1\" class=\"dataframe\">\n  <thead>\n    <tr style=\"text-align: right;\">\n      <th></th>\n      <th>N</th>\n      <th>Должность</th>\n      <th>Язык.программирования</th>\n      <th>Общий.опыт.работы</th>\n      <th>Опыт.работы.на.текущем.месте</th>\n      <th>Зарплата.в.месяц</th>\n      <th>Изменение.зарплаты.за.12.месяцев</th>\n      <th>Город</th>\n      <th>Размер.компании</th>\n      <th>Тип.компании</th>\n      <th>Пол</th>\n      <th>Возраст</th>\n      <th>Образование</th>\n      <th>Еще.студент</th>\n      <th>Уровень.английского</th>\n      <th>Дата.заполнения</th>\n      <th>User.Agent</th>\n      <th>exp</th>\n      <th>current_job_exp</th>\n      <th>salary</th>\n    </tr>\n  </thead>\n  <tbody>\n    <tr>\n      <th>0</th>\n      <td>1</td>\n      <td>Junior QA engineer</td>\n      <td>NaN</td>\n      <td>0.5</td>\n      <td>0.5</td>\n      <td>400</td>\n      <td>0</td>\n      <td>Харьков</td>\n      <td>до 10 человек</td>\n      <td>Аутсорсинговая</td>\n      <td>женский</td>\n      <td>20</td>\n      <td>Незаконченное высшее</td>\n      <td>True</td>\n      <td>ниже среднего</td>\n      <td>12/06/2017 12:38:08</td>\n      <td>Mozilla/5.0 (Windows NT 10.0; Win64; x64) Appl...</td>\n      <td>0.5</td>\n      <td>0.5</td>\n      <td>400</td>\n    </tr>\n    <tr>\n      <th>1</th>\n      <td>2</td>\n      <td>Junior QA engineer</td>\n      <td>NaN</td>\n      <td>меньше 3 месяцев</td>\n      <td>меньше 3 месяцев</td>\n      <td>430</td>\n      <td>130</td>\n      <td>Харьков</td>\n      <td>свыше 1000 человек</td>\n      <td>Аутсорсинговая</td>\n      <td>женский</td>\n      <td>21</td>\n      <td>Незаконченное высшее</td>\n      <td>True</td>\n      <td>выше среднего</td>\n      <td>12/06/2017 12:42:51</td>\n      <td>Mozilla/5.0 (iPad; CPU OS 10_2_1 like Mac OS X...</td>\n      <td>0.0</td>\n      <td>0.0</td>\n      <td>430</td>\n    </tr>\n    <tr>\n      <th>2</th>\n      <td>3</td>\n      <td>Software Engineer</td>\n      <td>C#/.NET</td>\n      <td>4</td>\n      <td>1</td>\n      <td>2500</td>\n      <td>800</td>\n      <td>Киев</td>\n      <td>до 1000 человек</td>\n      <td>Аутсорсинговая</td>\n      <td>мужской</td>\n      <td>26</td>\n      <td>Высшее</td>\n      <td>False</td>\n      <td>средний</td>\n      <td>12/06/2017 13:02:47</td>\n      <td>Mozilla/5.0 (Windows NT 10.0; Win64; x64) Appl...</td>\n      <td>4.0</td>\n      <td>1.0</td>\n      <td>2500</td>\n    </tr>\n    <tr>\n      <th>3</th>\n      <td>4</td>\n      <td>Software Engineer</td>\n      <td>JavaScript</td>\n      <td>5</td>\n      <td>4</td>\n      <td>2000</td>\n      <td>400</td>\n      <td>Одесса</td>\n      <td>до 200 человек</td>\n      <td>Продуктовая</td>\n      <td>мужской</td>\n      <td>30</td>\n      <td>Среднее</td>\n      <td>False</td>\n      <td>ниже среднего</td>\n      <td>12/06/2017 13:03:01</td>\n      <td>Mozilla/5.0 (Windows NT 6.1; Win64; x64) Apple...</td>\n      <td>5.0</td>\n      <td>4.0</td>\n      <td>2000</td>\n    </tr>\n    <tr>\n      <th>4</th>\n      <td>5</td>\n      <td>Senior Software Engineer</td>\n      <td>JavaScript</td>\n      <td>10 и более лет</td>\n      <td>0.5</td>\n      <td>4500</td>\n      <td>500</td>\n      <td>Другой</td>\n      <td>до 10 человек</td>\n      <td>Продуктовая</td>\n      <td>мужской</td>\n      <td>30</td>\n      <td>Техникум / Колледж</td>\n      <td>False</td>\n      <td>средний</td>\n      <td>12/06/2017 13:03:47</td>\n      <td>Mozilla/5.0 (iPhone; CPU iPhone OS 10_3_2 like...</td>\n      <td>10.0</td>\n      <td>0.5</td>\n      <td>4500</td>\n    </tr>\n    <tr>\n      <th>...</th>\n      <td>...</td>\n      <td>...</td>\n      <td>...</td>\n      <td>...</td>\n      <td>...</td>\n      <td>...</td>\n      <td>...</td>\n      <td>...</td>\n      <td>...</td>\n      <td>...</td>\n      <td>...</td>\n      <td>...</td>\n      <td>...</td>\n      <td>...</td>\n      <td>...</td>\n      <td>...</td>\n      <td>...</td>\n      <td>...</td>\n      <td>...</td>\n      <td>...</td>\n    </tr>\n    <tr>\n      <th>8699</th>\n      <td>8700</td>\n      <td>QA engineer</td>\n      <td>NaN</td>\n      <td>1</td>\n      <td>меньше 3 месяцев</td>\n      <td>700</td>\n      <td>700</td>\n      <td>Одесса</td>\n      <td>до 50 человек</td>\n      <td>Аутсорсинговая</td>\n      <td>мужской</td>\n      <td>23</td>\n      <td>Высшее</td>\n      <td>False</td>\n      <td>средний</td>\n      <td>12/07/2017 15:45:24</td>\n      <td>Mozilla/5.0 (X11; Ubuntu; Linux x86_64; rv:54....</td>\n      <td>1.0</td>\n      <td>0.0</td>\n      <td>700</td>\n    </tr>\n    <tr>\n      <th>8700</th>\n      <td>8701</td>\n      <td>Marketing</td>\n      <td>NaN</td>\n      <td>0.5</td>\n      <td>0.5</td>\n      <td>400</td>\n      <td>120</td>\n      <td>Киев</td>\n      <td>до 50 человек</td>\n      <td>Продуктовая</td>\n      <td>женский</td>\n      <td>22</td>\n      <td>Высшее</td>\n      <td>False</td>\n      <td>ниже среднего</td>\n      <td>12/07/2017 17:00:06</td>\n      <td>Mozilla/5.0 (Windows NT 10.0; Win64; x64) Appl...</td>\n      <td>0.5</td>\n      <td>0.5</td>\n      <td>400</td>\n    </tr>\n    <tr>\n      <th>8701</th>\n      <td>8702</td>\n      <td>Junior Software Engineer</td>\n      <td>Ruby/Rails</td>\n      <td>1</td>\n      <td>0.5</td>\n      <td>800</td>\n      <td>500</td>\n      <td>Львов</td>\n      <td>до 10 человек</td>\n      <td>Аутстаффинговая</td>\n      <td>мужской</td>\n      <td>30</td>\n      <td>Незаконченное высшее</td>\n      <td>False</td>\n      <td>выше среднего</td>\n      <td>12/07/2017 17:32:26</td>\n      <td>Mozilla/5.0 (X11; Linux x86_64) AppleWebKit/53...</td>\n      <td>1.0</td>\n      <td>0.5</td>\n      <td>800</td>\n    </tr>\n    <tr>\n      <th>8702</th>\n      <td>8703</td>\n      <td>Team lead</td>\n      <td>NaN</td>\n      <td>6</td>\n      <td>4</td>\n      <td>2600</td>\n      <td>0</td>\n      <td>Днепр</td>\n      <td>свыше 1000 человек</td>\n      <td>Аутсорсинговая</td>\n      <td>мужской</td>\n      <td>34</td>\n      <td>Высшее</td>\n      <td>False</td>\n      <td>продвинутый</td>\n      <td>12/07/2017 18:14:59</td>\n      <td>Mozilla/5.0 (Windows NT 6.1) AppleWebKit/537.3...</td>\n      <td>6.0</td>\n      <td>4.0</td>\n      <td>2600</td>\n    </tr>\n    <tr>\n      <th>8703</th>\n      <td>8704</td>\n      <td>Senior Software Engineer</td>\n      <td>Java</td>\n      <td>7</td>\n      <td>2</td>\n      <td>5000</td>\n      <td>800</td>\n      <td>Одесса</td>\n      <td>до 1000 человек</td>\n      <td>Продуктовая</td>\n      <td>мужской</td>\n      <td>28</td>\n      <td>Высшее</td>\n      <td>False</td>\n      <td>выше среднего</td>\n      <td>12/07/2017 21:28:57</td>\n      <td>Mozilla/5.0 (iPad; CPU OS 10_3_2 like Mac OS X...</td>\n      <td>7.0</td>\n      <td>2.0</td>\n      <td>5000</td>\n    </tr>\n  </tbody>\n</table>\n<p>8704 rows × 20 columns</p>\n</div>"
     },
     "execution_count": 287,
     "metadata": {},
     "output_type": "execute_result"
    }
   ],
   "source": [
    "# Видаліть усі стовпці з пропусками, крім стовпця \"Мова програмування\"\n",
    "\n",
    "# Формуємо список колонок на видалення\n",
    "# щоб в цей список не попала колонка 'Язык.программирования', тимчасово заповнюємо пусті поля символами \"---\"\n",
    "data['Язык.программирования'] = data['Язык.программирования'].fillna('---')\n",
    "missed_data = data.isnull().sum(axis=0)\n",
    "\n",
    "missed_data_lst = missed_data[missed_data > 0].keys()\n",
    "\n",
    "# Після того, як список сформовано - повертаємо для колонки \"Язык.программирования\" початкові значення колонок - NAN\n",
    "data.replace('---', np.nan, inplace=True)\n",
    "\n",
    "# Видаляємо колонки згідно нашого списку на видалення:\n",
    "data.drop(columns=missed_data_lst, inplace=True)\n",
    "data"
   ],
   "metadata": {
    "collapsed": false,
    "ExecuteTime": {
     "end_time": "2023-08-21T14:47:22.161567467Z",
     "start_time": "2023-08-21T14:47:21.703122720Z"
    }
   },
   "id": "43dc69ea9cb27c8e"
  },
  {
   "cell_type": "code",
   "execution_count": 288,
   "outputs": [
    {
     "data": {
      "text/plain": "N                                      0\nДолжность                              0\nЯзык.программирования               3850\nОбщий.опыт.работы                      0\nОпыт.работы.на.текущем.месте           0\nЗарплата.в.месяц                       0\nИзменение.зарплаты.за.12.месяцев       0\nГород                                  0\nРазмер.компании                        0\nТип.компании                           0\nПол                                    0\nВозраст                                0\nОбразование                            0\nЕще.студент                            0\nУровень.английского                    0\nДата.заполнения                        0\nUser.Agent                             0\nexp                                    0\ncurrent_job_exp                        0\nsalary                                 0\ndtype: int64"
     },
     "execution_count": 288,
     "metadata": {},
     "output_type": "execute_result"
    }
   ],
   "source": [
    "# Знову порахуйте, яка частка пропусків міститься в кожній колонці і переконайтеся, що залишився тільки стовпець \"Мова.програмування\"\n",
    "missed_data_1 = data.isnull().sum(axis=0)\n",
    "missed_data_1"
   ],
   "metadata": {
    "collapsed": false,
    "ExecuteTime": {
     "end_time": "2023-08-21T14:47:22.162669279Z",
     "start_time": "2023-08-21T14:47:21.831099690Z"
    }
   },
   "id": "2d8ca4c7123120c0"
  },
  {
   "cell_type": "code",
   "execution_count": 289,
   "outputs": [
    {
     "data": {
      "text/plain": "         N                 Должность Язык.программирования Общий.опыт.работы  \\\n2        3         Software Engineer               C#/.NET                 4   \n3        4         Software Engineer            JavaScript                 5   \n4        5  Senior Software Engineer            JavaScript    10 и более лет   \n6        7  Junior Software Engineer               C#/.NET                 1   \n7        8  Senior Software Engineer                   C++                 6   \n...    ...                       ...                   ...               ...   \n8692  8693         Software Engineer                  Java                 5   \n8694  8695  Junior Software Engineer               C#/.NET                 1   \n8695  8696         Software Engineer                Python                 1   \n8701  8702  Junior Software Engineer            Ruby/Rails                 1   \n8703  8704  Senior Software Engineer                  Java                 7   \n\n     Опыт.работы.на.текущем.месте  Зарплата.в.месяц  \\\n2                               1              2500   \n3                               4              2000   \n4                             0.5              4500   \n6                меньше 3 месяцев               600   \n7                               1              3300   \n...                           ...               ...   \n8692                            1              3500   \n8694                            1               550   \n8695                          0.5              1500   \n8701                          0.5               800   \n8703                            2              5000   \n\n      Изменение.зарплаты.за.12.месяцев        Город  Размер.компании  \\\n2                                  800         Киев  до 1000 человек   \n3                                  400       Одесса   до 200 человек   \n4                                  500       Другой    до 10 человек   \n6                                  100  Хмельницкий    до 50 человек   \n7                                  500         Киев    до 10 человек   \n...                                ...          ...              ...   \n8692                               650     Удаленно   до 200 человек   \n8694                               550      Харьков   до 200 человек   \n8695                              1000         Киев    до 10 человек   \n8701                               500        Львов    до 10 человек   \n8703                               800       Одесса  до 1000 человек   \n\n         Тип.компании      Пол  Возраст           Образование  Еще.студент  \\\n2      Аутсорсинговая  мужской       26                Высшее        False   \n3         Продуктовая  мужской       30               Среднее        False   \n4         Продуктовая  мужской       30    Техникум / Колледж        False   \n6      Аутсорсинговая  мужской       23                Высшее        False   \n7         Продуктовая  мужской       28                Высшее        False   \n...               ...      ...      ...                   ...          ...   \n8692   Аутсорсинговая  женский       28                Высшее        False   \n8694   Аутсорсинговая  мужской       23                Высшее        False   \n8695          Стартап  мужской       29                Высшее        False   \n8701  Аутстаффинговая  мужской       30  Незаконченное высшее        False   \n8703      Продуктовая  мужской       28                Высшее        False   \n\n     Уровень.английского      Дата.заполнения  \\\n2                средний  12/06/2017 13:02:47   \n3          ниже среднего  12/06/2017 13:03:01   \n4                средний  12/06/2017 13:03:47   \n6          ниже среднего  12/06/2017 13:04:26   \n7          выше среднего  12/06/2017 13:04:27   \n...                  ...                  ...   \n8692             средний  12/07/2017 13:26:49   \n8694       ниже среднего  12/07/2017 14:14:33   \n8695             средний  12/07/2017 14:39:21   \n8701       выше среднего  12/07/2017 17:32:26   \n8703       выше среднего  12/07/2017 21:28:57   \n\n                                             User.Agent   exp  \\\n2     Mozilla/5.0 (Windows NT 10.0; Win64; x64) Appl...   4.0   \n3     Mozilla/5.0 (Windows NT 6.1; Win64; x64) Apple...   5.0   \n4     Mozilla/5.0 (iPhone; CPU iPhone OS 10_3_2 like...  10.0   \n6     Mozilla/5.0 (Windows NT 10.0; Win64; x64) Appl...   1.0   \n7     Mozilla/5.0 (X11; Ubuntu; Linux x86_64; rv:53....   6.0   \n...                                                 ...   ...   \n8692  Mozilla/5.0 (Macintosh; Intel Mac OS X 10_12_5...   5.0   \n8694  Mozilla/5.0 (Windows NT 10.0; WOW64; rv:54.0) ...   1.0   \n8695  Mozilla/5.0 (X11; Linux x86_64) AppleWebKit/53...   1.0   \n8701  Mozilla/5.0 (X11; Linux x86_64) AppleWebKit/53...   1.0   \n8703  Mozilla/5.0 (iPad; CPU OS 10_3_2 like Mac OS X...   7.0   \n\n      current_job_exp  salary  \n2                 1.0    2500  \n3                 4.0    2000  \n4                 0.5    4500  \n6                 0.0     600  \n7                 1.0    3300  \n...               ...     ...  \n8692              1.0    3500  \n8694              1.0     550  \n8695              0.5    1500  \n8701              0.5     800  \n8703              2.0    5000  \n\n[4854 rows x 20 columns]",
      "text/html": "<div>\n<style scoped>\n    .dataframe tbody tr th:only-of-type {\n        vertical-align: middle;\n    }\n\n    .dataframe tbody tr th {\n        vertical-align: top;\n    }\n\n    .dataframe thead th {\n        text-align: right;\n    }\n</style>\n<table border=\"1\" class=\"dataframe\">\n  <thead>\n    <tr style=\"text-align: right;\">\n      <th></th>\n      <th>N</th>\n      <th>Должность</th>\n      <th>Язык.программирования</th>\n      <th>Общий.опыт.работы</th>\n      <th>Опыт.работы.на.текущем.месте</th>\n      <th>Зарплата.в.месяц</th>\n      <th>Изменение.зарплаты.за.12.месяцев</th>\n      <th>Город</th>\n      <th>Размер.компании</th>\n      <th>Тип.компании</th>\n      <th>Пол</th>\n      <th>Возраст</th>\n      <th>Образование</th>\n      <th>Еще.студент</th>\n      <th>Уровень.английского</th>\n      <th>Дата.заполнения</th>\n      <th>User.Agent</th>\n      <th>exp</th>\n      <th>current_job_exp</th>\n      <th>salary</th>\n    </tr>\n  </thead>\n  <tbody>\n    <tr>\n      <th>2</th>\n      <td>3</td>\n      <td>Software Engineer</td>\n      <td>C#/.NET</td>\n      <td>4</td>\n      <td>1</td>\n      <td>2500</td>\n      <td>800</td>\n      <td>Киев</td>\n      <td>до 1000 человек</td>\n      <td>Аутсорсинговая</td>\n      <td>мужской</td>\n      <td>26</td>\n      <td>Высшее</td>\n      <td>False</td>\n      <td>средний</td>\n      <td>12/06/2017 13:02:47</td>\n      <td>Mozilla/5.0 (Windows NT 10.0; Win64; x64) Appl...</td>\n      <td>4.0</td>\n      <td>1.0</td>\n      <td>2500</td>\n    </tr>\n    <tr>\n      <th>3</th>\n      <td>4</td>\n      <td>Software Engineer</td>\n      <td>JavaScript</td>\n      <td>5</td>\n      <td>4</td>\n      <td>2000</td>\n      <td>400</td>\n      <td>Одесса</td>\n      <td>до 200 человек</td>\n      <td>Продуктовая</td>\n      <td>мужской</td>\n      <td>30</td>\n      <td>Среднее</td>\n      <td>False</td>\n      <td>ниже среднего</td>\n      <td>12/06/2017 13:03:01</td>\n      <td>Mozilla/5.0 (Windows NT 6.1; Win64; x64) Apple...</td>\n      <td>5.0</td>\n      <td>4.0</td>\n      <td>2000</td>\n    </tr>\n    <tr>\n      <th>4</th>\n      <td>5</td>\n      <td>Senior Software Engineer</td>\n      <td>JavaScript</td>\n      <td>10 и более лет</td>\n      <td>0.5</td>\n      <td>4500</td>\n      <td>500</td>\n      <td>Другой</td>\n      <td>до 10 человек</td>\n      <td>Продуктовая</td>\n      <td>мужской</td>\n      <td>30</td>\n      <td>Техникум / Колледж</td>\n      <td>False</td>\n      <td>средний</td>\n      <td>12/06/2017 13:03:47</td>\n      <td>Mozilla/5.0 (iPhone; CPU iPhone OS 10_3_2 like...</td>\n      <td>10.0</td>\n      <td>0.5</td>\n      <td>4500</td>\n    </tr>\n    <tr>\n      <th>6</th>\n      <td>7</td>\n      <td>Junior Software Engineer</td>\n      <td>C#/.NET</td>\n      <td>1</td>\n      <td>меньше 3 месяцев</td>\n      <td>600</td>\n      <td>100</td>\n      <td>Хмельницкий</td>\n      <td>до 50 человек</td>\n      <td>Аутсорсинговая</td>\n      <td>мужской</td>\n      <td>23</td>\n      <td>Высшее</td>\n      <td>False</td>\n      <td>ниже среднего</td>\n      <td>12/06/2017 13:04:26</td>\n      <td>Mozilla/5.0 (Windows NT 10.0; Win64; x64) Appl...</td>\n      <td>1.0</td>\n      <td>0.0</td>\n      <td>600</td>\n    </tr>\n    <tr>\n      <th>7</th>\n      <td>8</td>\n      <td>Senior Software Engineer</td>\n      <td>C++</td>\n      <td>6</td>\n      <td>1</td>\n      <td>3300</td>\n      <td>500</td>\n      <td>Киев</td>\n      <td>до 10 человек</td>\n      <td>Продуктовая</td>\n      <td>мужской</td>\n      <td>28</td>\n      <td>Высшее</td>\n      <td>False</td>\n      <td>выше среднего</td>\n      <td>12/06/2017 13:04:27</td>\n      <td>Mozilla/5.0 (X11; Ubuntu; Linux x86_64; rv:53....</td>\n      <td>6.0</td>\n      <td>1.0</td>\n      <td>3300</td>\n    </tr>\n    <tr>\n      <th>...</th>\n      <td>...</td>\n      <td>...</td>\n      <td>...</td>\n      <td>...</td>\n      <td>...</td>\n      <td>...</td>\n      <td>...</td>\n      <td>...</td>\n      <td>...</td>\n      <td>...</td>\n      <td>...</td>\n      <td>...</td>\n      <td>...</td>\n      <td>...</td>\n      <td>...</td>\n      <td>...</td>\n      <td>...</td>\n      <td>...</td>\n      <td>...</td>\n      <td>...</td>\n    </tr>\n    <tr>\n      <th>8692</th>\n      <td>8693</td>\n      <td>Software Engineer</td>\n      <td>Java</td>\n      <td>5</td>\n      <td>1</td>\n      <td>3500</td>\n      <td>650</td>\n      <td>Удаленно</td>\n      <td>до 200 человек</td>\n      <td>Аутсорсинговая</td>\n      <td>женский</td>\n      <td>28</td>\n      <td>Высшее</td>\n      <td>False</td>\n      <td>средний</td>\n      <td>12/07/2017 13:26:49</td>\n      <td>Mozilla/5.0 (Macintosh; Intel Mac OS X 10_12_5...</td>\n      <td>5.0</td>\n      <td>1.0</td>\n      <td>3500</td>\n    </tr>\n    <tr>\n      <th>8694</th>\n      <td>8695</td>\n      <td>Junior Software Engineer</td>\n      <td>C#/.NET</td>\n      <td>1</td>\n      <td>1</td>\n      <td>550</td>\n      <td>550</td>\n      <td>Харьков</td>\n      <td>до 200 человек</td>\n      <td>Аутсорсинговая</td>\n      <td>мужской</td>\n      <td>23</td>\n      <td>Высшее</td>\n      <td>False</td>\n      <td>ниже среднего</td>\n      <td>12/07/2017 14:14:33</td>\n      <td>Mozilla/5.0 (Windows NT 10.0; WOW64; rv:54.0) ...</td>\n      <td>1.0</td>\n      <td>1.0</td>\n      <td>550</td>\n    </tr>\n    <tr>\n      <th>8695</th>\n      <td>8696</td>\n      <td>Software Engineer</td>\n      <td>Python</td>\n      <td>1</td>\n      <td>0.5</td>\n      <td>1500</td>\n      <td>1000</td>\n      <td>Киев</td>\n      <td>до 10 человек</td>\n      <td>Стартап</td>\n      <td>мужской</td>\n      <td>29</td>\n      <td>Высшее</td>\n      <td>False</td>\n      <td>средний</td>\n      <td>12/07/2017 14:39:21</td>\n      <td>Mozilla/5.0 (X11; Linux x86_64) AppleWebKit/53...</td>\n      <td>1.0</td>\n      <td>0.5</td>\n      <td>1500</td>\n    </tr>\n    <tr>\n      <th>8701</th>\n      <td>8702</td>\n      <td>Junior Software Engineer</td>\n      <td>Ruby/Rails</td>\n      <td>1</td>\n      <td>0.5</td>\n      <td>800</td>\n      <td>500</td>\n      <td>Львов</td>\n      <td>до 10 человек</td>\n      <td>Аутстаффинговая</td>\n      <td>мужской</td>\n      <td>30</td>\n      <td>Незаконченное высшее</td>\n      <td>False</td>\n      <td>выше среднего</td>\n      <td>12/07/2017 17:32:26</td>\n      <td>Mozilla/5.0 (X11; Linux x86_64) AppleWebKit/53...</td>\n      <td>1.0</td>\n      <td>0.5</td>\n      <td>800</td>\n    </tr>\n    <tr>\n      <th>8703</th>\n      <td>8704</td>\n      <td>Senior Software Engineer</td>\n      <td>Java</td>\n      <td>7</td>\n      <td>2</td>\n      <td>5000</td>\n      <td>800</td>\n      <td>Одесса</td>\n      <td>до 1000 человек</td>\n      <td>Продуктовая</td>\n      <td>мужской</td>\n      <td>28</td>\n      <td>Высшее</td>\n      <td>False</td>\n      <td>выше среднего</td>\n      <td>12/07/2017 21:28:57</td>\n      <td>Mozilla/5.0 (iPad; CPU OS 10_3_2 like Mac OS X...</td>\n      <td>7.0</td>\n      <td>2.0</td>\n      <td>5000</td>\n    </tr>\n  </tbody>\n</table>\n<p>4854 rows × 20 columns</p>\n</div>"
     },
     "execution_count": 289,
     "metadata": {},
     "output_type": "execute_result"
    }
   ],
   "source": [
    "# Видаліть усі рядки з пропусками у вихідній таблиці за допомогою методу dropna\n",
    "data.dropna(inplace=True)\n",
    "data"
   ],
   "metadata": {
    "collapsed": false,
    "ExecuteTime": {
     "end_time": "2023-08-21T14:47:22.198486764Z",
     "start_time": "2023-08-21T14:47:21.831525069Z"
    }
   },
   "id": "9f228fa859d5d90c"
  },
  {
   "cell_type": "code",
   "execution_count": 290,
   "outputs": [
    {
     "data": {
      "text/plain": "(4854, 20)"
     },
     "execution_count": 290,
     "metadata": {},
     "output_type": "execute_result"
    }
   ],
   "source": [
    "# Визначте новий розмір таблиці за допомогою методу shape\n",
    "data.shape"
   ],
   "metadata": {
    "collapsed": false,
    "ExecuteTime": {
     "end_time": "2023-08-21T14:47:22.317822303Z",
     "start_time": "2023-08-21T14:47:21.888061905Z"
    }
   },
   "id": "a7b1a42ebfb7596a"
  },
  {
   "cell_type": "code",
   "execution_count": 291,
   "outputs": [
    {
     "data": {
      "text/plain": "         N                 Должность Язык.программирования Общий.опыт.работы  \\\n12      13         Software Engineer                Python                 1   \n68      69         Software Engineer                Python               1.5   \n87      88  Junior Software Engineer                Python               0.5   \n114    115  Junior Software Engineer                Python               1.5   \n143    144  Junior Software Engineer                Python                 1   \n...    ...                       ...                   ...               ...   \n8546  8547         Software Engineer                Python                 5   \n8625  8626         Software Engineer                Python                 4   \n8635  8636  Senior Software Engineer                Python    10 и более лет   \n8673  8674  Junior Software Engineer                Python               0.5   \n8695  8696         Software Engineer                Python                 1   \n\n     Опыт.работы.на.текущем.месте  Зарплата.в.месяц  \\\n12               меньше 3 месяцев               800   \n68                            0.5               900   \n87                            0.5               600   \n114                           0.5               685   \n143                             1               750   \n...                           ...               ...   \n8546                            1              2000   \n8625                            1              1750   \n8635             меньше 3 месяцев              4000   \n8673                          0.5               350   \n8695                          0.5              1500   \n\n      Изменение.зарплаты.за.12.месяцев      Город     Размер.компании  \\\n12                                 200       Киев       до 50 человек   \n68                                 900       Киев       до 10 человек   \n87                                   0       Киев       до 10 человек   \n114                                250       Киев     до 1000 человек   \n143                                250       Киев       до 10 человек   \n...                                ...        ...                 ...   \n8546                               800  Запорожье       до 50 человек   \n8625                                 0       Киев  свыше 1000 человек   \n8635                              1300   Удаленно       до 10 человек   \n8673                                50       Киев       до 50 человек   \n8695                              1000       Киев       до 10 человек   \n\n        Тип.компании      Пол  Возраст           Образование  Еще.студент  \\\n12    Аутсорсинговая  мужской       26                Высшее        False   \n68           Стартап  мужской       21  Незаконченное высшее         True   \n87    Аутсорсинговая  мужской       19  Незаконченное высшее         True   \n114   Аутсорсинговая  мужской       21  Незаконченное высшее        False   \n143   Аутсорсинговая  мужской       21  Незаконченное высшее         True   \n...              ...      ...      ...                   ...          ...   \n8546  Аутсорсинговая  мужской       22  Незаконченное высшее        False   \n8625  Аутсорсинговая  мужской       28               Среднее        False   \n8635         Стартап  мужской       33                Высшее        False   \n8673  Аутсорсинговая  мужской       22                Высшее        False   \n8695         Стартап  мужской       29                Высшее        False   \n\n     Уровень.английского      Дата.заполнения  \\\n12         ниже среднего  12/06/2017 13:05:54   \n68         выше среднего  12/06/2017 13:11:17   \n87         выше среднего  12/06/2017 13:12:25   \n114              средний  12/06/2017 13:14:52   \n143        выше среднего  12/06/2017 13:19:10   \n...                  ...                  ...   \n8546             средний  10/07/2017 14:11:26   \n8625             средний  11/07/2017 16:15:40   \n8635       выше среднего  11/07/2017 17:51:36   \n8673             средний  12/07/2017 09:37:16   \n8695             средний  12/07/2017 14:39:21   \n\n                                             User.Agent   exp  \\\n12    Mozilla/5.0 (Windows NT 6.1; Win64; x64) Apple...   1.0   \n68    Mozilla/5.0 (Windows NT 10.0; Win64; x64) Appl...   1.5   \n87    Mozilla/5.0 (X11; Linux x86_64) AppleWebKit/53...   0.5   \n114   Mozilla/5.0 (X11; Linux x86_64) AppleWebKit/53...   1.5   \n143   Mozilla/5.0 (X11; Linux x86_64) AppleWebKit/53...   1.0   \n...                                                 ...   ...   \n8546  Mozilla/5.0 (Macintosh; Intel Mac OS X 10_12_5...   5.0   \n8625  Mozilla/5.0 (X11; Ubuntu; Linux x86_64; rv:54....   4.0   \n8635  Mozilla/5.0 (X11; Linux x86_64) AppleWebKit/53...  10.0   \n8673  Mozilla/5.0 (X11; Ubuntu; Linux x86_64; rv:54....   0.5   \n8695  Mozilla/5.0 (X11; Linux x86_64) AppleWebKit/53...   1.0   \n\n      current_job_exp  salary  \n12                0.0     800  \n68                0.5     900  \n87                0.5     600  \n114               0.5     685  \n143               1.0     750  \n...               ...     ...  \n8546              1.0    2000  \n8625              1.0    1750  \n8635              0.0    4000  \n8673              0.5     350  \n8695              0.5    1500  \n\n[207 rows x 20 columns]",
      "text/html": "<div>\n<style scoped>\n    .dataframe tbody tr th:only-of-type {\n        vertical-align: middle;\n    }\n\n    .dataframe tbody tr th {\n        vertical-align: top;\n    }\n\n    .dataframe thead th {\n        text-align: right;\n    }\n</style>\n<table border=\"1\" class=\"dataframe\">\n  <thead>\n    <tr style=\"text-align: right;\">\n      <th></th>\n      <th>N</th>\n      <th>Должность</th>\n      <th>Язык.программирования</th>\n      <th>Общий.опыт.работы</th>\n      <th>Опыт.работы.на.текущем.месте</th>\n      <th>Зарплата.в.месяц</th>\n      <th>Изменение.зарплаты.за.12.месяцев</th>\n      <th>Город</th>\n      <th>Размер.компании</th>\n      <th>Тип.компании</th>\n      <th>Пол</th>\n      <th>Возраст</th>\n      <th>Образование</th>\n      <th>Еще.студент</th>\n      <th>Уровень.английского</th>\n      <th>Дата.заполнения</th>\n      <th>User.Agent</th>\n      <th>exp</th>\n      <th>current_job_exp</th>\n      <th>salary</th>\n    </tr>\n  </thead>\n  <tbody>\n    <tr>\n      <th>12</th>\n      <td>13</td>\n      <td>Software Engineer</td>\n      <td>Python</td>\n      <td>1</td>\n      <td>меньше 3 месяцев</td>\n      <td>800</td>\n      <td>200</td>\n      <td>Киев</td>\n      <td>до 50 человек</td>\n      <td>Аутсорсинговая</td>\n      <td>мужской</td>\n      <td>26</td>\n      <td>Высшее</td>\n      <td>False</td>\n      <td>ниже среднего</td>\n      <td>12/06/2017 13:05:54</td>\n      <td>Mozilla/5.0 (Windows NT 6.1; Win64; x64) Apple...</td>\n      <td>1.0</td>\n      <td>0.0</td>\n      <td>800</td>\n    </tr>\n    <tr>\n      <th>68</th>\n      <td>69</td>\n      <td>Software Engineer</td>\n      <td>Python</td>\n      <td>1.5</td>\n      <td>0.5</td>\n      <td>900</td>\n      <td>900</td>\n      <td>Киев</td>\n      <td>до 10 человек</td>\n      <td>Стартап</td>\n      <td>мужской</td>\n      <td>21</td>\n      <td>Незаконченное высшее</td>\n      <td>True</td>\n      <td>выше среднего</td>\n      <td>12/06/2017 13:11:17</td>\n      <td>Mozilla/5.0 (Windows NT 10.0; Win64; x64) Appl...</td>\n      <td>1.5</td>\n      <td>0.5</td>\n      <td>900</td>\n    </tr>\n    <tr>\n      <th>87</th>\n      <td>88</td>\n      <td>Junior Software Engineer</td>\n      <td>Python</td>\n      <td>0.5</td>\n      <td>0.5</td>\n      <td>600</td>\n      <td>0</td>\n      <td>Киев</td>\n      <td>до 10 человек</td>\n      <td>Аутсорсинговая</td>\n      <td>мужской</td>\n      <td>19</td>\n      <td>Незаконченное высшее</td>\n      <td>True</td>\n      <td>выше среднего</td>\n      <td>12/06/2017 13:12:25</td>\n      <td>Mozilla/5.0 (X11; Linux x86_64) AppleWebKit/53...</td>\n      <td>0.5</td>\n      <td>0.5</td>\n      <td>600</td>\n    </tr>\n    <tr>\n      <th>114</th>\n      <td>115</td>\n      <td>Junior Software Engineer</td>\n      <td>Python</td>\n      <td>1.5</td>\n      <td>0.5</td>\n      <td>685</td>\n      <td>250</td>\n      <td>Киев</td>\n      <td>до 1000 человек</td>\n      <td>Аутсорсинговая</td>\n      <td>мужской</td>\n      <td>21</td>\n      <td>Незаконченное высшее</td>\n      <td>False</td>\n      <td>средний</td>\n      <td>12/06/2017 13:14:52</td>\n      <td>Mozilla/5.0 (X11; Linux x86_64) AppleWebKit/53...</td>\n      <td>1.5</td>\n      <td>0.5</td>\n      <td>685</td>\n    </tr>\n    <tr>\n      <th>143</th>\n      <td>144</td>\n      <td>Junior Software Engineer</td>\n      <td>Python</td>\n      <td>1</td>\n      <td>1</td>\n      <td>750</td>\n      <td>250</td>\n      <td>Киев</td>\n      <td>до 10 человек</td>\n      <td>Аутсорсинговая</td>\n      <td>мужской</td>\n      <td>21</td>\n      <td>Незаконченное высшее</td>\n      <td>True</td>\n      <td>выше среднего</td>\n      <td>12/06/2017 13:19:10</td>\n      <td>Mozilla/5.0 (X11; Linux x86_64) AppleWebKit/53...</td>\n      <td>1.0</td>\n      <td>1.0</td>\n      <td>750</td>\n    </tr>\n    <tr>\n      <th>...</th>\n      <td>...</td>\n      <td>...</td>\n      <td>...</td>\n      <td>...</td>\n      <td>...</td>\n      <td>...</td>\n      <td>...</td>\n      <td>...</td>\n      <td>...</td>\n      <td>...</td>\n      <td>...</td>\n      <td>...</td>\n      <td>...</td>\n      <td>...</td>\n      <td>...</td>\n      <td>...</td>\n      <td>...</td>\n      <td>...</td>\n      <td>...</td>\n      <td>...</td>\n    </tr>\n    <tr>\n      <th>8546</th>\n      <td>8547</td>\n      <td>Software Engineer</td>\n      <td>Python</td>\n      <td>5</td>\n      <td>1</td>\n      <td>2000</td>\n      <td>800</td>\n      <td>Запорожье</td>\n      <td>до 50 человек</td>\n      <td>Аутсорсинговая</td>\n      <td>мужской</td>\n      <td>22</td>\n      <td>Незаконченное высшее</td>\n      <td>False</td>\n      <td>средний</td>\n      <td>10/07/2017 14:11:26</td>\n      <td>Mozilla/5.0 (Macintosh; Intel Mac OS X 10_12_5...</td>\n      <td>5.0</td>\n      <td>1.0</td>\n      <td>2000</td>\n    </tr>\n    <tr>\n      <th>8625</th>\n      <td>8626</td>\n      <td>Software Engineer</td>\n      <td>Python</td>\n      <td>4</td>\n      <td>1</td>\n      <td>1750</td>\n      <td>0</td>\n      <td>Киев</td>\n      <td>свыше 1000 человек</td>\n      <td>Аутсорсинговая</td>\n      <td>мужской</td>\n      <td>28</td>\n      <td>Среднее</td>\n      <td>False</td>\n      <td>средний</td>\n      <td>11/07/2017 16:15:40</td>\n      <td>Mozilla/5.0 (X11; Ubuntu; Linux x86_64; rv:54....</td>\n      <td>4.0</td>\n      <td>1.0</td>\n      <td>1750</td>\n    </tr>\n    <tr>\n      <th>8635</th>\n      <td>8636</td>\n      <td>Senior Software Engineer</td>\n      <td>Python</td>\n      <td>10 и более лет</td>\n      <td>меньше 3 месяцев</td>\n      <td>4000</td>\n      <td>1300</td>\n      <td>Удаленно</td>\n      <td>до 10 человек</td>\n      <td>Стартап</td>\n      <td>мужской</td>\n      <td>33</td>\n      <td>Высшее</td>\n      <td>False</td>\n      <td>выше среднего</td>\n      <td>11/07/2017 17:51:36</td>\n      <td>Mozilla/5.0 (X11; Linux x86_64) AppleWebKit/53...</td>\n      <td>10.0</td>\n      <td>0.0</td>\n      <td>4000</td>\n    </tr>\n    <tr>\n      <th>8673</th>\n      <td>8674</td>\n      <td>Junior Software Engineer</td>\n      <td>Python</td>\n      <td>0.5</td>\n      <td>0.5</td>\n      <td>350</td>\n      <td>50</td>\n      <td>Киев</td>\n      <td>до 50 человек</td>\n      <td>Аутсорсинговая</td>\n      <td>мужской</td>\n      <td>22</td>\n      <td>Высшее</td>\n      <td>False</td>\n      <td>средний</td>\n      <td>12/07/2017 09:37:16</td>\n      <td>Mozilla/5.0 (X11; Ubuntu; Linux x86_64; rv:54....</td>\n      <td>0.5</td>\n      <td>0.5</td>\n      <td>350</td>\n    </tr>\n    <tr>\n      <th>8695</th>\n      <td>8696</td>\n      <td>Software Engineer</td>\n      <td>Python</td>\n      <td>1</td>\n      <td>0.5</td>\n      <td>1500</td>\n      <td>1000</td>\n      <td>Киев</td>\n      <td>до 10 человек</td>\n      <td>Стартап</td>\n      <td>мужской</td>\n      <td>29</td>\n      <td>Высшее</td>\n      <td>False</td>\n      <td>средний</td>\n      <td>12/07/2017 14:39:21</td>\n      <td>Mozilla/5.0 (X11; Linux x86_64) AppleWebKit/53...</td>\n      <td>1.0</td>\n      <td>0.5</td>\n      <td>1500</td>\n    </tr>\n  </tbody>\n</table>\n<p>207 rows × 20 columns</p>\n</div>"
     },
     "execution_count": 291,
     "metadata": {},
     "output_type": "execute_result"
    }
   ],
   "source": [
    "# Створіть нову таблицю python_data, в якій будуть тільки рядки зі спеціалістами, які вказали мову програмування Python\n",
    "python_data = data[data['Язык.программирования'] == 'Python']\n",
    "python_data"
   ],
   "metadata": {
    "collapsed": false,
    "ExecuteTime": {
     "end_time": "2023-08-21T14:47:22.383076281Z",
     "start_time": "2023-08-21T14:47:21.931069005Z"
    }
   },
   "id": "7a281943792d69f2"
  },
  {
   "cell_type": "code",
   "execution_count": 292,
   "outputs": [
    {
     "data": {
      "text/plain": "(207, 20)"
     },
     "execution_count": 292,
     "metadata": {},
     "output_type": "execute_result"
    }
   ],
   "source": [
    "# Визначте розмір таблиці python_data за допомогою методу shape\n",
    "python_data.shape"
   ],
   "metadata": {
    "collapsed": false,
    "ExecuteTime": {
     "end_time": "2023-08-21T14:47:22.415124003Z",
     "start_time": "2023-08-21T14:47:22.018951621Z"
    }
   },
   "id": "eb7f00df3699be29"
  },
  {
   "cell_type": "code",
   "execution_count": 293,
   "outputs": [
    {
     "data": {
      "text/plain": "<pandas.core.groupby.generic.DataFrameGroupBy object at 0x7fb6d54a7dc0>"
     },
     "execution_count": 293,
     "metadata": {},
     "output_type": "execute_result"
    }
   ],
   "source": [
    "# Використовуючи метод groupby, виконайте групування за стовпчиком \"Посада\"\n",
    "python_data_1 =python_data.groupby(\"Должность\", as_index=False)\n",
    "python_data_1"
   ],
   "metadata": {
    "collapsed": false,
    "ExecuteTime": {
     "end_time": "2023-08-21T14:47:22.415896167Z",
     "start_time": "2023-08-21T14:47:22.019313177Z"
    }
   },
   "id": "df5ea6d53b01b9cd"
  },
  {
   "cell_type": "code",
   "execution_count": 294,
   "outputs": [
    {
     "data": {
      "text/plain": "                  Должность Зарплата.в.месяц      \n                                         min   max\n0  Junior Software Engineer              100  1250\n1  Senior Software Engineer             1300  9200\n2         Software Engineer              500  5400\n3          System Architect             3000  5000\n4            Technical Lead             1425  6200",
      "text/html": "<div>\n<style scoped>\n    .dataframe tbody tr th:only-of-type {\n        vertical-align: middle;\n    }\n\n    .dataframe tbody tr th {\n        vertical-align: top;\n    }\n\n    .dataframe thead tr th {\n        text-align: left;\n    }\n</style>\n<table border=\"1\" class=\"dataframe\">\n  <thead>\n    <tr>\n      <th></th>\n      <th>Должность</th>\n      <th colspan=\"2\" halign=\"left\">Зарплата.в.месяц</th>\n    </tr>\n    <tr>\n      <th></th>\n      <th></th>\n      <th>min</th>\n      <th>max</th>\n    </tr>\n  </thead>\n  <tbody>\n    <tr>\n      <th>0</th>\n      <td>Junior Software Engineer</td>\n      <td>100</td>\n      <td>1250</td>\n    </tr>\n    <tr>\n      <th>1</th>\n      <td>Senior Software Engineer</td>\n      <td>1300</td>\n      <td>9200</td>\n    </tr>\n    <tr>\n      <th>2</th>\n      <td>Software Engineer</td>\n      <td>500</td>\n      <td>5400</td>\n    </tr>\n    <tr>\n      <th>3</th>\n      <td>System Architect</td>\n      <td>3000</td>\n      <td>5000</td>\n    </tr>\n    <tr>\n      <th>4</th>\n      <td>Technical Lead</td>\n      <td>1425</td>\n      <td>6200</td>\n    </tr>\n  </tbody>\n</table>\n</div>"
     },
     "execution_count": 294,
     "metadata": {},
     "output_type": "execute_result"
    }
   ],
   "source": [
    "# Створіть новий DataFrame, де для згрупованих даних за стов\n",
    "#пчиком \"Посада\", виконайте агрегацію даних за допомогою методу agg і знайдіть мінімальне та максимальне значення у стовпчику \"Зарплата.в.місяць\"\n",
    "salary = python_data_1.agg({'Зарплата.в.месяц': (np.min, np.max)})\n",
    "salary"
   ],
   "metadata": {
    "collapsed": false,
    "ExecuteTime": {
     "end_time": "2023-08-21T14:47:22.419327768Z",
     "start_time": "2023-08-21T14:47:22.019524232Z"
    }
   },
   "id": "eea95f607093cb2"
  },
  {
   "cell_type": "code",
   "execution_count": 296,
   "outputs": [
    {
     "data": {
      "text/plain": "                  Должность Зарплата.в.месяц           avg\n                                         min   max        \n1  Senior Software Engineer             1300  9200  5250.0\n3          System Architect             3000  5000  4000.0\n4            Technical Lead             1425  6200  3812.5\n2         Software Engineer              500  5400  2950.0\n0  Junior Software Engineer              100  1250   675.0",
      "text/html": "<div>\n<style scoped>\n    .dataframe tbody tr th:only-of-type {\n        vertical-align: middle;\n    }\n\n    .dataframe tbody tr th {\n        vertical-align: top;\n    }\n\n    .dataframe thead tr th {\n        text-align: left;\n    }\n</style>\n<table border=\"1\" class=\"dataframe\">\n  <thead>\n    <tr>\n      <th></th>\n      <th>Должность</th>\n      <th colspan=\"2\" halign=\"left\">Зарплата.в.месяц</th>\n      <th>avg</th>\n    </tr>\n    <tr>\n      <th></th>\n      <th></th>\n      <th>min</th>\n      <th>max</th>\n      <th></th>\n    </tr>\n  </thead>\n  <tbody>\n    <tr>\n      <th>1</th>\n      <td>Senior Software Engineer</td>\n      <td>1300</td>\n      <td>9200</td>\n      <td>5250.0</td>\n    </tr>\n    <tr>\n      <th>3</th>\n      <td>System Architect</td>\n      <td>3000</td>\n      <td>5000</td>\n      <td>4000.0</td>\n    </tr>\n    <tr>\n      <th>4</th>\n      <td>Technical Lead</td>\n      <td>1425</td>\n      <td>6200</td>\n      <td>3812.5</td>\n    </tr>\n    <tr>\n      <th>2</th>\n      <td>Software Engineer</td>\n      <td>500</td>\n      <td>5400</td>\n      <td>2950.0</td>\n    </tr>\n    <tr>\n      <th>0</th>\n      <td>Junior Software Engineer</td>\n      <td>100</td>\n      <td>1250</td>\n      <td>675.0</td>\n    </tr>\n  </tbody>\n</table>\n</div>"
     },
     "execution_count": 296,
     "metadata": {},
     "output_type": "execute_result"
    }
   ],
   "source": [
    "# Створіть функцію fill_avg_salary, яка повертатиме середнє значення заробітної плати на місяць. Використовуйте її для методу apply та створіть новий стовпчик \"avg\"\n",
    "def fill_avg_salary(row):\n",
    "    min_salary = row['Зарплата.в.месяц']['min']\n",
    "    max_salary = row['Зарплата.в.месяц']['max']\n",
    "    return np.average([min_salary, max_salary])\n",
    "\n",
    "# За допомогою методу apply() застосовуємо функцію fill_avg_salary() до кожної стрічки таблиці.\n",
    "# Тобто, для кожної стрічки визначаємо середню зарплату та записуємо ці дані в новий стовбець:\n",
    "salary['avg'] = salary.apply(fill_avg_salary, axis=1)\n",
    "\n",
    "# Відсортуємо дані середньої заробітної плати від більшої до меньшої:\n",
    "salary.sort_values('avg', ascending=False)"
   ],
   "metadata": {
    "collapsed": false,
    "ExecuteTime": {
     "end_time": "2023-08-21T14:47:54.607723017Z",
     "start_time": "2023-08-21T14:47:54.486932087Z"
    }
   },
   "id": "37d2d82f5deb7feb"
  },
  {
   "cell_type": "code",
   "execution_count": 297,
   "outputs": [
    {
     "data": {
      "text/plain": "count       5.000000\nmean     3337.500000\nstd      1700.091909\nmin       675.000000\n25%      2950.000000\n50%      3812.500000\n75%      4000.000000\nmax      5250.000000\nName: avg, dtype: float64"
     },
     "execution_count": 297,
     "metadata": {},
     "output_type": "execute_result"
    }
   ],
   "source": [
    "# Створіть описову статистику за допомогою методу describe для нового стовпчика.\n",
    "salary_info = salary['avg'].describe()\n",
    "salary_info"
   ],
   "metadata": {
    "collapsed": false,
    "ExecuteTime": {
     "end_time": "2023-08-21T14:49:47.652108297Z",
     "start_time": "2023-08-21T14:49:47.540410041Z"
    }
   },
   "id": "74c4cb27bfb59175"
  },
  {
   "cell_type": "code",
   "execution_count": null,
   "outputs": [],
   "source": [
    "# Збережіть отриману таблицю в CSV файл\n"
   ],
   "metadata": {
    "collapsed": false
   },
   "id": "3507d36a1f4feca5"
  }
 ],
 "metadata": {
  "kernelspec": {
   "display_name": "Python 3",
   "language": "python",
   "name": "python3"
  },
  "language_info": {
   "codemirror_mode": {
    "name": "ipython",
    "version": 2
   },
   "file_extension": ".py",
   "mimetype": "text/x-python",
   "name": "python",
   "nbconvert_exporter": "python",
   "pygments_lexer": "ipython2",
   "version": "2.7.6"
  }
 },
 "nbformat": 4,
 "nbformat_minor": 5
}
